{
 "cells": [
  {
   "cell_type": "markdown",
   "id": "d14db9c3",
   "metadata": {},
   "source": [
    "Q1. What is the purpose of Python's OOP?\n",
    "\n",
    "ANS) It is used to structure a software program into simple, reusable pieces of code blueprints (usually called classes), which are used to create individual instances of objects"
   ]
  },
  {
   "cell_type": "markdown",
   "id": "bf06f008",
   "metadata": {},
   "source": [
    "Q2. Where does an inheritance search look for an attribute?\n",
    "\n",
    "ANS) In terms of search trees, an instance inherits attributes from its class, and a class inherits attributes from all classes above it in the tree."
   ]
  },
  {
   "cell_type": "markdown",
   "id": "e6840fb6",
   "metadata": {},
   "source": [
    "Q3. How do you distinguish between a class object and an instance object?\n",
    "\n",
    "ANS)instance object inherits the attributes of the class object from which it was created. class object is like a blueprint for intance object but instance object is a concrete item in out code."
   ]
  },
  {
   "cell_type": "markdown",
   "id": "8bda871d",
   "metadata": {},
   "source": [
    "Q4. What makes the first argument in a class’s method function special?\n",
    "\n",
    "ANS) The calling process is automatic while the receiving process is not (its explicit). This is the reason the first parameter of a function in class must be the object itself. Writing this parameter as self is merely a convention. It is not a keyword and has no special meaning in Python."
   ]
  },
  {
   "cell_type": "markdown",
   "id": "d029cef8",
   "metadata": {},
   "source": [
    "Q5. What is the purpose of the __init__ method?\n",
    "\n",
    "ANS) __init__ allows us to initialize this state information or data while creating an instance of the class."
   ]
  },
  {
   "cell_type": "markdown",
   "id": "a98eac35",
   "metadata": {},
   "source": [
    "Q6. What is the process for creating a class instance?\n",
    "\n",
    "ANS) To create instances of a class, you call the class using class name and pass in whatever arguments its __init__ method accepts"
   ]
  },
  {
   "cell_type": "markdown",
   "id": "f9e197ee",
   "metadata": {},
   "source": [
    "Q7. What is the process for creating a class?\n",
    "\n",
    "ANS) To Create a Class. To create a class, use the keyword class "
   ]
  },
  {
   "cell_type": "markdown",
   "id": "e140c3ba",
   "metadata": {},
   "source": [
    "Q8. How would you define the superclasses of a class?\n",
    "\n",
    "ANS)The class from which a class inherits is called the parent or superclass. "
   ]
  }
 ],
 "metadata": {
  "kernelspec": {
   "display_name": "Python 3 (ipykernel)",
   "language": "python",
   "name": "python3"
  },
  "language_info": {
   "codemirror_mode": {
    "name": "ipython",
    "version": 3
   },
   "file_extension": ".py",
   "mimetype": "text/x-python",
   "name": "python",
   "nbconvert_exporter": "python",
   "pygments_lexer": "ipython3",
   "version": "3.9.7"
  }
 },
 "nbformat": 4,
 "nbformat_minor": 5
}

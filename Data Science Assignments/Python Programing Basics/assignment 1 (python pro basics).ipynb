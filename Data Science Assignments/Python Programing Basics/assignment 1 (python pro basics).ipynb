{
 "cells": [
  {
   "cell_type": "markdown",
   "id": "819fe5fa",
   "metadata": {},
   "source": [
    "1. Write a Python program to print \"Hello Python\"?"
   ]
  },
  {
   "cell_type": "code",
   "execution_count": 5,
   "id": "1904d89f",
   "metadata": {},
   "outputs": [
    {
     "name": "stdout",
     "output_type": "stream",
     "text": [
      "hello python\n"
     ]
    }
   ],
   "source": [
    "try:\n",
    "      print(\"hello python\")  \n",
    "except:\n",
    "    print(\"An exception occurred\")   "
   ]
  },
  {
   "cell_type": "markdown",
   "id": "bd6904a7",
   "metadata": {},
   "source": [
    "2. Write a Python program to do arithmetical operations addition and division.?"
   ]
  },
  {
   "cell_type": "code",
   "execution_count": 14,
   "id": "6eaf66fc",
   "metadata": {},
   "outputs": [
    {
     "name": "stdout",
     "output_type": "stream",
     "text": [
      "give ur input5\n",
      "9\n"
     ]
    }
   ],
   "source": [
    "# program for addition\n",
    "a= 4\n",
    "b=int(input(\"give ur input\"))\n",
    "try:\n",
    "     c=a+b  \n",
    "except:\n",
    "    print(\"An exception occurred\") \n",
    "    \n",
    "else: \n",
    "    print(c) "
   ]
  },
  {
   "cell_type": "code",
   "execution_count": 17,
   "id": "1013c4fb",
   "metadata": {},
   "outputs": [
    {
     "name": "stdout",
     "output_type": "stream",
     "text": [
      "give ur input100\n",
      "2.0\n"
     ]
    }
   ],
   "source": [
    "# program for division \n",
    "\n",
    "a= 200\n",
    "b=int(input(\"give ur input\"))\n",
    "try:\n",
    "     c=a/b  \n",
    "except:\n",
    "    print(\"An exception occurred\") \n",
    "    \n",
    "else: \n",
    "    print(c) "
   ]
  },
  {
   "cell_type": "markdown",
   "id": "12f2e3fe",
   "metadata": {},
   "source": [
    "3. Write a Python program to find the area of a triangle?"
   ]
  },
  {
   "cell_type": "code",
   "execution_count": 19,
   "id": "40d3d4d7",
   "metadata": {},
   "outputs": [
    {
     "name": "stdout",
     "output_type": "stream",
     "text": [
      "give height of triangle3\n",
      "give base of triangle5\n",
      "area of triangle is   7.5\n"
     ]
    }
   ],
   "source": [
    "# program for area of triangle \n",
    "\n",
    "h=int(input(\"give height of triangle\"))\n",
    "b=int(input(\"give base of triangle\"))\n",
    "\n",
    "try:\n",
    "    area=(b*h)/2\n",
    "except:\n",
    "    print(\"An exception occurred\") \n",
    "    \n",
    "else: \n",
    "    print(\"area of triangle is  \",area)     \n"
   ]
  },
  {
   "cell_type": "markdown",
   "id": "7d0de4f3",
   "metadata": {},
   "source": [
    "4. Write a Python program to swap two variables?"
   ]
  },
  {
   "cell_type": "code",
   "execution_count": 26,
   "id": "6834f43c",
   "metadata": {},
   "outputs": [
    {
     "name": "stdout",
     "output_type": "stream",
     "text": [
      "10 200\n"
     ]
    }
   ],
   "source": [
    "# program to swap two variables \n",
    "\n",
    "a= 200\n",
    "b=10\n",
    "try:\n",
    "    c=a\n",
    "    a=b \n",
    "    b=c    \n",
    "        \n",
    "except:\n",
    "    print(\"An exception occurred\") \n",
    "    \n",
    "else: \n",
    "    print(a,b) "
   ]
  },
  {
   "cell_type": "markdown",
   "id": "4d08d4f8",
   "metadata": {},
   "source": [
    "5. Write a Python program to generate a random number?"
   ]
  },
  {
   "cell_type": "code",
   "execution_count": 27,
   "id": "0eed544b",
   "metadata": {},
   "outputs": [
    {
     "name": "stdout",
     "output_type": "stream",
     "text": [
      "4\n"
     ]
    }
   ],
   "source": [
    "# Program to generate a random number between 0 and 9\n",
    "\n",
    "# importing the random module\n",
    "import random\n",
    "\n",
    "print(random.randint(0,9))"
   ]
  }
 ],
 "metadata": {
  "kernelspec": {
   "display_name": "Python 3 (ipykernel)",
   "language": "python",
   "name": "python3"
  },
  "language_info": {
   "codemirror_mode": {
    "name": "ipython",
    "version": 3
   },
   "file_extension": ".py",
   "mimetype": "text/x-python",
   "name": "python",
   "nbconvert_exporter": "python",
   "pygments_lexer": "ipython3",
   "version": "3.9.7"
  }
 },
 "nbformat": 4,
 "nbformat_minor": 5
}

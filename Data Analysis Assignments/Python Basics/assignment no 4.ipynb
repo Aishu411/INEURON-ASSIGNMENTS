{
 "cells": [
  {
   "cell_type": "markdown",
   "id": "33742d35",
   "metadata": {},
   "source": [
    "Q1.  Write a Python Program to Find the Factorial of a Number?"
   ]
  },
  {
   "cell_type": "code",
   "execution_count": 1,
   "id": "33beb800",
   "metadata": {},
   "outputs": [
    {
     "name": "stdout",
     "output_type": "stream",
     "text": [
      "enter a number: 5\n",
      "the factorial of 5 is 120\n"
     ]
    }
   ],
   "source": [
    "def fact(num):\n",
    "    if (num<1):\n",
    "        return 1\n",
    "    else: \n",
    "        return num*fact(num-1)\n",
    "num =int(input(\"enter a number: \"))\n",
    "value=fact(num)\n",
    "print(f'the factorial of {num} is {value}')"
   ]
  },
  {
   "cell_type": "markdown",
   "id": "13e1e552",
   "metadata": {},
   "source": [
    "2. Write a Python Program to Display the multiplication Table?"
   ]
  },
  {
   "cell_type": "code",
   "execution_count": 2,
   "id": "0e8f8626",
   "metadata": {},
   "outputs": [
    {
     "name": "stdout",
     "output_type": "stream",
     "text": [
      "enter a number :4\n",
      "enter no of variable: 5\n",
      "4 X 1 = 20\n",
      "4 X 2 = 20\n",
      "4 X 3 = 20\n",
      "4 X 4 = 20\n",
      "4 X 5 = 20\n"
     ]
    }
   ],
   "source": [
    "def table(fixno,variable):\n",
    "    for x in range (1,variable+1):\n",
    "        print(f'{fixno} X {x} = {fixno*variable}')\n",
    "num = int(input('enter a number :'))\n",
    "values= int(input('enter no of variable: '))\n",
    "table(num,values)"
   ]
  },
  {
   "cell_type": "markdown",
   "id": "33f05911",
   "metadata": {},
   "source": [
    "3. Write a Python Program to Print the Fibonacci sequence?"
   ]
  },
  {
   "cell_type": "code",
   "execution_count": 4,
   "id": "5e864350",
   "metadata": {},
   "outputs": [
    {
     "name": "stdout",
     "output_type": "stream",
     "text": [
      "how many terms you want in your sequence 5\n",
      "fibonacci seq: \n",
      "0\n",
      "1\n",
      "1\n",
      "2\n",
      "3\n"
     ]
    }
   ],
   "source": [
    "num=int(input('how many terms you want in your sequence '))\n",
    "n1,n2= 0,1\n",
    "count=0\n",
    "if num<0:\n",
    "    print('please enter a positive number')\n",
    "else:\n",
    "    print('fibonacci seq: ')\n",
    "    while count<num:\n",
    "        print(n1)\n",
    "        nth=n1+n2\n",
    "        n1=n2\n",
    "        n2=nth\n",
    "        count+=1"
   ]
  },
  {
   "cell_type": "markdown",
   "id": "f9329f2e",
   "metadata": {},
   "source": [
    "4. Write a Python Program to Check Armstrong Number?"
   ]
  },
  {
   "cell_type": "code",
   "execution_count": null,
   "id": "29ed264c",
   "metadata": {},
   "outputs": [],
   "source": [
    "\n",
    "a=int(input('enter no: '))\n",
    "b=int(input('enter no: '))\n",
    "c=int(input('enter no: '))\n",
    "# check a3+b3+c3=abc\n"
   ]
  },
  {
   "cell_type": "code",
   "execution_count": 11,
   "id": "5309c8b1",
   "metadata": {},
   "outputs": [
    {
     "name": "stdout",
     "output_type": "stream",
     "text": [
      "Enter a number: 153\n",
      "153 is an Armstrong number\n"
     ]
    }
   ],
   "source": [
    "\n",
    "num = int(input(\"Enter a number: \"))\n",
    "sum = 0\n",
    "\n",
    "# find the sum of the cube of each digit\n",
    "temp = num\n",
    "while temp > 0:\n",
    "    digit = temp % 10\n",
    "    sum += digit ** 3\n",
    "    temp //= 10\n",
    "\n",
    "# display the result\n",
    "if num == sum:\n",
    "    print(num,\"is an Armstrong number\")\n",
    "else:\n",
    "    print(num,\"is not an Armstrong number\")"
   ]
  },
  {
   "cell_type": "code",
   "execution_count": 9,
   "id": "a0766c8f",
   "metadata": {},
   "outputs": [
    {
     "data": {
      "text/plain": [
       "2"
      ]
     },
     "execution_count": 9,
     "metadata": {},
     "output_type": "execute_result"
    }
   ],
   "source": [
    "\n",
    "\n"
   ]
  },
  {
   "cell_type": "code",
   "execution_count": null,
   "id": "95038563",
   "metadata": {},
   "outputs": [],
   "source": []
  },
  {
   "cell_type": "code",
   "execution_count": null,
   "id": "fb2cf7cb",
   "metadata": {},
   "outputs": [],
   "source": []
  },
  {
   "cell_type": "code",
   "execution_count": null,
   "id": "79ca7f8a",
   "metadata": {},
   "outputs": [],
   "source": []
  },
  {
   "cell_type": "code",
   "execution_count": null,
   "id": "55eca808",
   "metadata": {},
   "outputs": [],
   "source": []
  }
 ],
 "metadata": {
  "kernelspec": {
   "display_name": "Python 3 (ipykernel)",
   "language": "python",
   "name": "python3"
  },
  "language_info": {
   "codemirror_mode": {
    "name": "ipython",
    "version": 3
   },
   "file_extension": ".py",
   "mimetype": "text/x-python",
   "name": "python",
   "nbconvert_exporter": "python",
   "pygments_lexer": "ipython3",
   "version": "3.9.7"
  }
 },
 "nbformat": 4,
 "nbformat_minor": 5
}

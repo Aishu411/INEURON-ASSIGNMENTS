{
 "cells": [
  {
   "cell_type": "markdown",
   "id": "5761f0b8",
   "metadata": {},
   "source": [
    "1. Write a Python Program to Check if a Number is Positive, Negative or Zero?"
   ]
  },
  {
   "cell_type": "code",
   "execution_count": 3,
   "id": "1974ac74",
   "metadata": {},
   "outputs": [
    {
     "name": "stdout",
     "output_type": "stream",
     "text": [
      "enter the number: 0\n",
      "the given number is zero\n"
     ]
    }
   ],
   "source": [
    "# code for checking if the entered number is positive, negative or zero.\n",
    "x= int(input(\"enter the number: \"))\n",
    "\n",
    "if x<0:\n",
    "    print(\"the given number is negavtive\")\n",
    "elif x>0:\n",
    "     print(\"the given number is positive\")\n",
    "else:\n",
    "    print(\"the given number is zero\") "
   ]
  },
  {
   "cell_type": "markdown",
   "id": "62e90560",
   "metadata": {},
   "source": [
    "2. Write a Python Program to Check if a Number is Odd or Even?"
   ]
  },
  {
   "cell_type": "code",
   "execution_count": 14,
   "id": "1ef667b2",
   "metadata": {},
   "outputs": [
    {
     "name": "stdout",
     "output_type": "stream",
     "text": [
      "enter the number: 325636\n",
      "the given number is even\n"
     ]
    }
   ],
   "source": [
    "# code for checking if entered number is odd or even:\n",
    "# even number 2,3,4.....\n",
    "#odd number 1,3,5....\n",
    "\n",
    "x= int(input(\"enter the number: \"))\n",
    "\n",
    "if (x%2)==0:\n",
    "    print(\"the given number is even\") \n",
    "else:\n",
    "    print(\"the given number is odd\")\n"
   ]
  },
  {
   "cell_type": "markdown",
   "id": "4c1824c3",
   "metadata": {},
   "source": [
    "3. Write a Python Program to Check Leap Year?"
   ]
  },
  {
   "cell_type": "code",
   "execution_count": 19,
   "id": "77d41993",
   "metadata": {},
   "outputs": [
    {
     "name": "stdout",
     "output_type": "stream",
     "text": [
      "enter the year: 100\n",
      "the entered year is not a leap year\n"
     ]
    }
   ],
   "source": [
    "#code for checking leap year\n",
    "#logic:  if number is divisible by 4 ie if reminder=1 then it is leap year\n",
    "# but 100,200 .... can or cannot be leap year.\n",
    "\n",
    "year=int(input('enter the year: '))\n",
    "\n",
    "if (year%400)==0 and (year % 100)==0:\n",
    "    print(\"the entered year is leap year\", year)\n",
    "elif (year % 4 ==0) and (year % 100 != 0):\n",
    "    print(\"the entered year  is a leap year\",year)\n",
    "else:\n",
    "     print(\"the entered year is not a leap year\")"
   ]
  },
  {
   "cell_type": "markdown",
   "id": "99f15b71",
   "metadata": {},
   "source": [
    "4. Write a Python Program to Check Prime Number?"
   ]
  },
  {
   "cell_type": "code",
   "execution_count": 19,
   "id": "d7fef43b",
   "metadata": {},
   "outputs": [
    {
     "name": "stdout",
     "output_type": "stream",
     "text": [
      "enter the number: 5\n",
      "5 is a prime number\n"
     ]
    }
   ],
   "source": [
    "# Program to check if a number is prime or not\n",
    "\n",
    "num = int(input('enter the number: '))\n",
    "\n",
    "# To take input from the user\n",
    "#num = int(input(\"Enter a number: \"))\n",
    "\n",
    "# prime numbers are greater than 1\n",
    "if num > 1:\n",
    "   # check for factors\n",
    "   for i in range(2,num):\n",
    "        if (num % i) == 0:\n",
    "            print(num,\"is not a prime number\")\n",
    "            print(i,\"times\",num//i,\"is\",num)\n",
    "            break\n",
    "        else:\n",
    "            print(num,\"is a prime number\")\n",
    "else:\n",
    "    print(num,\"is not a prime number\")"
   ]
  },
  {
   "cell_type": "markdown",
   "id": "7afe5388",
   "metadata": {},
   "source": [
    "5. Write a Python Program to Print all Prime Numbers in an Interval of 1-10000?"
   ]
  },
  {
   "cell_type": "code",
   "execution_count": 5,
   "id": "57b2e2c9",
   "metadata": {},
   "outputs": [
    {
     "ename": "IndentationError",
     "evalue": "unindent does not match any outer indentation level (<tokenize>, line 14)",
     "output_type": "error",
     "traceback": [
      "\u001b[1;36m  File \u001b[1;32m\"<tokenize>\"\u001b[1;36m, line \u001b[1;32m14\u001b[0m\n\u001b[1;33m    else:\u001b[0m\n\u001b[1;37m    ^\u001b[0m\n\u001b[1;31mIndentationError\u001b[0m\u001b[1;31m:\u001b[0m unindent does not match any outer indentation level\n"
     ]
    }
   ],
   "source": [
    "# Python program to display all the prime numbers within an interval 1-10000\n",
    "\n",
    "lower = 1\n",
    "upper = 10000\n",
    "\n",
    "print(\"Prime numbers between\", lower, \"and\", upper, \"are:\")\n",
    "\n",
    "for num in range(lower, upper + 1):\n",
    "   # all prime numbers are greater than 1\n",
    "   if num > 1:\n",
    "        for i in range(2, num):\n",
    "            if (num % i) == 0:\n",
    "                break\n",
    "    else:\n",
    "         print(num)"
   ]
  }
 ],
 "metadata": {
  "kernelspec": {
   "display_name": "Python 3 (ipykernel)",
   "language": "python",
   "name": "python3"
  },
  "language_info": {
   "codemirror_mode": {
    "name": "ipython",
    "version": 3
   },
   "file_extension": ".py",
   "mimetype": "text/x-python",
   "name": "python",
   "nbconvert_exporter": "python",
   "pygments_lexer": "ipython3",
   "version": "3.9.7"
  }
 },
 "nbformat": 4,
 "nbformat_minor": 5
}

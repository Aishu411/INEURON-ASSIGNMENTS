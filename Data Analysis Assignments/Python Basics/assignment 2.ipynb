{
 "cells": [
  {
   "cell_type": "markdown",
   "id": "9daa1d7d",
   "metadata": {},
   "source": [
    "1. Write a Python program to convert kilometers to miles?"
   ]
  },
  {
   "cell_type": "code",
   "execution_count": 1,
   "id": "93bc625a",
   "metadata": {},
   "outputs": [
    {
     "name": "stdout",
     "output_type": "stream",
     "text": [
      "Enter value in Kilometers: 45\n",
      "45.00 kilometers is equal to 27.96 miles.\n"
     ]
    }
   ],
   "source": [
    "# taking input as kilometer \n",
    "kilometers= float(input(\"Enter value in Kilometers: \"))\n",
    "\n",
    "# here x is conversion factor\n",
    "x= 0.621371\n",
    "\n",
    "miles=kilometers*x\n",
    "print('%0.2f kilometers is equal to %0.2f miles.' %(kilometers,miles))"
   ]
  },
  {
   "cell_type": "markdown",
   "id": "d3425d22",
   "metadata": {},
   "source": [
    "2. Write a Python program to convert Celsius to Fahrenheit?"
   ]
  },
  {
   "cell_type": "code",
   "execution_count": 2,
   "id": "48222fd0",
   "metadata": {},
   "outputs": [
    {
     "name": "stdout",
     "output_type": "stream",
     "text": [
      "Enter value in celsius: 35\n",
      "35.00 celsius is equal to 63.00 fahrenheit.\n"
     ]
    }
   ],
   "source": [
    "# taking input as celsius\n",
    "celsius= float(input(\"Enter value in celsius: \"))\n",
    "\n",
    "# here x is conversion factor\n",
    "x= 1.8\n",
    "\n",
    "fahrenheit =celsius*x\n",
    "print('%0.2f celsius is equal to %0.2f fahrenheit.' %(celsius,fahrenheit))"
   ]
  },
  {
   "cell_type": "markdown",
   "id": "13aac4e7",
   "metadata": {},
   "source": [
    "3. Write a Python program to display calendar?"
   ]
  },
  {
   "cell_type": "code",
   "execution_count": 3,
   "id": "03779c01",
   "metadata": {},
   "outputs": [
    {
     "name": "stdout",
     "output_type": "stream",
     "text": [
      "                                  2022\n",
      "\n",
      "      January                   February                   March\n",
      "Mo Tu We Th Fr Sa Su      Mo Tu We Th Fr Sa Su      Mo Tu We Th Fr Sa Su\n",
      "                1  2          1  2  3  4  5  6          1  2  3  4  5  6\n",
      " 3  4  5  6  7  8  9       7  8  9 10 11 12 13       7  8  9 10 11 12 13\n",
      "10 11 12 13 14 15 16      14 15 16 17 18 19 20      14 15 16 17 18 19 20\n",
      "17 18 19 20 21 22 23      21 22 23 24 25 26 27      21 22 23 24 25 26 27\n",
      "24 25 26 27 28 29 30      28                        28 29 30 31\n",
      "31\n",
      "\n",
      "       April                      May                       June\n",
      "Mo Tu We Th Fr Sa Su      Mo Tu We Th Fr Sa Su      Mo Tu We Th Fr Sa Su\n",
      "             1  2  3                         1             1  2  3  4  5\n",
      " 4  5  6  7  8  9 10       2  3  4  5  6  7  8       6  7  8  9 10 11 12\n",
      "11 12 13 14 15 16 17       9 10 11 12 13 14 15      13 14 15 16 17 18 19\n",
      "18 19 20 21 22 23 24      16 17 18 19 20 21 22      20 21 22 23 24 25 26\n",
      "25 26 27 28 29 30         23 24 25 26 27 28 29      27 28 29 30\n",
      "                          30 31\n",
      "\n",
      "        July                     August                  September\n",
      "Mo Tu We Th Fr Sa Su      Mo Tu We Th Fr Sa Su      Mo Tu We Th Fr Sa Su\n",
      "             1  2  3       1  2  3  4  5  6  7                1  2  3  4\n",
      " 4  5  6  7  8  9 10       8  9 10 11 12 13 14       5  6  7  8  9 10 11\n",
      "11 12 13 14 15 16 17      15 16 17 18 19 20 21      12 13 14 15 16 17 18\n",
      "18 19 20 21 22 23 24      22 23 24 25 26 27 28      19 20 21 22 23 24 25\n",
      "25 26 27 28 29 30 31      29 30 31                  26 27 28 29 30\n",
      "\n",
      "      October                   November                  December\n",
      "Mo Tu We Th Fr Sa Su      Mo Tu We Th Fr Sa Su      Mo Tu We Th Fr Sa Su\n",
      "                1  2          1  2  3  4  5  6                1  2  3  4\n",
      " 3  4  5  6  7  8  9       7  8  9 10 11 12 13       5  6  7  8  9 10 11\n",
      "10 11 12 13 14 15 16      14 15 16 17 18 19 20      12 13 14 15 16 17 18\n",
      "17 18 19 20 21 22 23      21 22 23 24 25 26 27      19 20 21 22 23 24 25\n",
      "24 25 26 27 28 29 30      28 29 30                  26 27 28 29 30 31\n",
      "31\n",
      "\n"
     ]
    }
   ],
   "source": [
    "# Python program to display calendar of 2022\n",
    "\n",
    "\n",
    "# import module\n",
    "import calendar\n",
    "\n",
    "yy = 2022\n",
    "\n",
    "print(calendar.calendar(yy))\n"
   ]
  },
  {
   "cell_type": "markdown",
   "id": "e7edd08c",
   "metadata": {},
   "source": [
    "4. Write a Python program to solve quadratic equation?"
   ]
  },
  {
   "cell_type": "code",
   "execution_count": 4,
   "id": "ffb81471",
   "metadata": {},
   "outputs": [],
   "source": [
    "from math import sqrt"
   ]
  },
  {
   "cell_type": "code",
   "execution_count": 5,
   "id": "db714914",
   "metadata": {},
   "outputs": [
    {
     "name": "stdout",
     "output_type": "stream",
     "text": [
      "enter value of a: 2\n",
      "enter value of b: 4\n",
      "enter value of c: 6\n",
      "no roots, determinant is <0\n"
     ]
    }
   ],
   "source": [
    "# code for finding roots of quadratic equation\n",
    "# quadratic eq is written in form: ax^2+bx+c=o\n",
    "#in below line program in taking input from user\n",
    "a= float(input('enter value of a: '))\n",
    "b= float(input('enter value of b: '))\n",
    "c= float(input('enter value of c: '))\n",
    "\n",
    "# we are doing this step for simplicity. the following thing is also known as determinat\n",
    "det=((b*2)-4*a*c)\n",
    "\n",
    "# if the value of determinant is <0 it has no roots \n",
    "#                                >0 it has 2 roots \n",
    "#                                =2 then it has 1 root \n",
    "if det>0:\n",
    "    num_roots=2\n",
    "    x1= (((-b) + sqrt(det))/(2*a))\n",
    "    x2=(((-b) - sqrt(det))/(2*a))\n",
    "    print(\"there are two roots %f and %f for the given quadratic eq.\"%(x1,x2))\n",
    "    \n",
    "elif det==2:\n",
    "        num_roots=1\n",
    "        x3=(-b)/2*a\n",
    "        print(\"there is one root %f for the given equation\"% x1)\n",
    "    \n",
    "else:\n",
    "    num_roots=0\n",
    "    print(\"no roots, determinant is <0\")\n",
    "exit()\n"
   ]
  },
  {
   "cell_type": "markdown",
   "id": "c5bb3ec5",
   "metadata": {},
   "source": [
    "5. Write a Python program to swap two variables without temp variable?"
   ]
  },
  {
   "cell_type": "code",
   "execution_count": 7,
   "id": "4b21feb1",
   "metadata": {},
   "outputs": [
    {
     "name": "stdout",
     "output_type": "stream",
     "text": [
      "(3, 4)\n",
      "(4, 3)\n"
     ]
    }
   ],
   "source": [
    "x=3\n",
    "y=4\n",
    "print ((x,y))\n",
    "x,y=y,x \n",
    "print((x,y))"
   ]
  }
 ],
 "metadata": {
  "kernelspec": {
   "display_name": "Python 3 (ipykernel)",
   "language": "python",
   "name": "python3"
  },
  "language_info": {
   "codemirror_mode": {
    "name": "ipython",
    "version": 3
   },
   "file_extension": ".py",
   "mimetype": "text/x-python",
   "name": "python",
   "nbconvert_exporter": "python",
   "pygments_lexer": "ipython3",
   "version": "3.9.7"
  }
 },
 "nbformat": 4,
 "nbformat_minor": 5
}
